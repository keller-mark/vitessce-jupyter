{
 "cells": [
  {
   "cell_type": "markdown",
   "metadata": {
    "nbsphinx": "hidden"
   },
   "source": [
    "# Vitessce Widget Tutorial"
   ]
  },
  {
   "cell_type": "markdown",
   "metadata": {},
   "source": [
    "# Visualization of SNARE-seq dataset"
   ]
  },
  {
   "cell_type": "markdown",
   "metadata": {},
   "source": [
    "## 1. Import dependencies\n",
    "\n",
    "We need to import the classes and functions that we will be using from the corresponding packages."
   ]
  },
  {
   "cell_type": "code",
   "execution_count": 15,
   "metadata": {},
   "outputs": [],
   "source": [
    "import os\n",
    "from os.path import join\n",
    "from urllib.request import urlretrieve\n",
    "import scipy.io as sio\n",
    "import pandas as pd\n",
    "import numpy as np\n",
    "import scanpy as sc\n",
    "from anndata import AnnData\n",
    "import pyBigWig\n",
    "import bbi\n",
    "import negspy.coordinates as nc\n",
    "\n",
    "from vitessce import (\n",
    "    VitessceConfig,\n",
    "    Component as cm,\n",
    "    CoordinationType as ct,\n",
    ")"
   ]
  },
  {
   "cell_type": "markdown",
   "metadata": {},
   "source": [
    "## 2. Download data"
   ]
  },
  {
   "cell_type": "markdown",
   "metadata": {},
   "source": [
    "Download the dataset from Chen et al. Nat Biotechnol 2019 http://doi.org/10.1038/s41587-019-0290-0 from https://www.ncbi.nlm.nih.gov/geo/query/acc.cgi?acc=GSE126074"
   ]
  },
  {
   "cell_type": "code",
   "execution_count": 2,
   "metadata": {},
   "outputs": [],
   "source": [
    "os.makedirs(\"data\", exist_ok=True)\n",
    "\n",
    "cdna_barcodes_filepath = join(\"data\", \"GSE126074_AdBrainCortex_SNAREseq_cDNA.barcodes.tsv.gz\")\n",
    "cdna_counts_filepath = join(\"data\", \"GSE126074_AdBrainCortex_SNAREseq_cDNA.counts.mtx.gz\")\n",
    "cdna_genes_filepath = join(\"data\", \"GSE126074_AdBrainCortex_SNAREseq_cDNA.genes.tsv.gz\")\n",
    "\n",
    "chromatin_barcodes_filepath = join(\"data\", \"GSE126074_AdBrainCortex_SNAREseq_chromatin.barcodes.tsv.gz\")\n",
    "chromatin_counts_filepath = join(\"data\", \"GSE126074_AdBrainCortex_SNAREseq_chromatin.counts.mtx.gz\")\n",
    "chromatin_peaks_filepath = join(\"data\", \"GSE126074_AdBrainCortex_SNAREseq_chromatin.peaks.tsv.gz\")\n",
    "\n",
    "geo_base_url = 'https://www.ncbi.nlm.nih.gov/geo/download/?acc=GSE126074&format=file&file='\n",
    "for filepath in { cdna_barcodes_filepath, cdna_counts_filepath, cdna_genes_filepath, chromatin_barcodes_filepath, chromatin_counts_filepath, chromatin_peaks_filepath }:\n",
    "    urlretrieve(f'{geo_base_url}{os.path.basename(filepath)}', filepath)"
   ]
  },
  {
   "cell_type": "markdown",
   "metadata": {},
   "source": [
    "## 3. Read data"
   ]
  },
  {
   "cell_type": "code",
   "execution_count": 86,
   "metadata": {},
   "outputs": [],
   "source": [
    "cdna_counts_mtx = sio.mmread(cdna_counts_filepath).toarray()\n",
    "chromatin_counts_mtx = sio.mmread(chromatin_counts_filepath).toarray()\n",
    "\n",
    "cdna_barcodes_df = pd.read_csv(cdna_barcodes_filepath, sep='\\t', header=None, index_col=0)\n",
    "cdna_genes_df = pd.read_csv(cdna_genes_filepath, sep='\\t', header=None, index_col=0)\n",
    "\n",
    "chromatin_barcodes_df = pd.read_csv(chromatin_barcodes_filepath, sep='\\t', header=None)\n",
    "chromatin_peaks_df = pd.read_csv(chromatin_peaks_filepath, sep='\\t', header=None)"
   ]
  },
  {
   "cell_type": "code",
   "execution_count": 4,
   "metadata": {},
   "outputs": [],
   "source": [
    "# Download cisTopic-based t-SNE and UMAP coordinates.\n",
    "chromatin_tsne_df = pd.read_csv(\"https://keller-mark.github.io/vitessce-demo-hosting-temporary/snare-seq-cistopic/chromatin.tsne.tsv\", sep='\\t', index_col=0)\n",
    "chromatin_umap_df = pd.read_csv(\"https://keller-mark.github.io/vitessce-demo-hosting-temporary/snare-seq-cistopic/chromatin.umap.tsv\", sep='\\t', index_col=0)"
   ]
  },
  {
   "cell_type": "code",
   "execution_count": 87,
   "metadata": {},
   "outputs": [
    {
     "data": {
      "text/html": [
       "<div>\n",
       "<style scoped>\n",
       "    .dataframe tbody tr th:only-of-type {\n",
       "        vertical-align: middle;\n",
       "    }\n",
       "\n",
       "    .dataframe tbody tr th {\n",
       "        vertical-align: top;\n",
       "    }\n",
       "\n",
       "    .dataframe thead th {\n",
       "        text-align: right;\n",
       "    }\n",
       "</style>\n",
       "<table border=\"1\" class=\"dataframe\">\n",
       "  <thead>\n",
       "    <tr style=\"text-align: right;\">\n",
       "      <th></th>\n",
       "    </tr>\n",
       "    <tr>\n",
       "      <th>0</th>\n",
       "    </tr>\n",
       "  </thead>\n",
       "  <tbody>\n",
       "    <tr>\n",
       "      <th>09A_CAGCCCCGCCTT</th>\n",
       "    </tr>\n",
       "    <tr>\n",
       "      <th>09A_CGCCTACCATGA</th>\n",
       "    </tr>\n",
       "    <tr>\n",
       "      <th>09A_GATGCGCGGCTA</th>\n",
       "    </tr>\n",
       "    <tr>\n",
       "      <th>09A_GGTCCGAGTCCT</th>\n",
       "    </tr>\n",
       "    <tr>\n",
       "      <th>09A_TCTCCCGGCACC</th>\n",
       "    </tr>\n",
       "  </tbody>\n",
       "</table>\n",
       "</div>"
      ],
      "text/plain": [
       "Empty DataFrame\n",
       "Columns: []\n",
       "Index: [09A_CAGCCCCGCCTT, 09A_CGCCTACCATGA, 09A_GATGCGCGGCTA, 09A_GGTCCGAGTCCT, 09A_TCTCCCGGCACC]"
      ]
     },
     "execution_count": 87,
     "metadata": {},
     "output_type": "execute_result"
    }
   ],
   "source": [
    "cdna_barcodes_df.head()"
   ]
  },
  {
   "cell_type": "code",
   "execution_count": 6,
   "metadata": {},
   "outputs": [
    {
     "data": {
      "text/html": [
       "<div>\n",
       "<style scoped>\n",
       "    .dataframe tbody tr th:only-of-type {\n",
       "        vertical-align: middle;\n",
       "    }\n",
       "\n",
       "    .dataframe tbody tr th {\n",
       "        vertical-align: top;\n",
       "    }\n",
       "\n",
       "    .dataframe thead th {\n",
       "        text-align: right;\n",
       "    }\n",
       "</style>\n",
       "<table border=\"1\" class=\"dataframe\">\n",
       "  <thead>\n",
       "    <tr style=\"text-align: right;\">\n",
       "      <th></th>\n",
       "      <th>0</th>\n",
       "    </tr>\n",
       "  </thead>\n",
       "  <tbody>\n",
       "    <tr>\n",
       "      <th>0</th>\n",
       "      <td>chr1:3005833-3005982</td>\n",
       "    </tr>\n",
       "    <tr>\n",
       "      <th>1</th>\n",
       "      <td>chr1:3094772-3095489</td>\n",
       "    </tr>\n",
       "    <tr>\n",
       "      <th>2</th>\n",
       "      <td>chr1:3119556-3120739</td>\n",
       "    </tr>\n",
       "    <tr>\n",
       "      <th>3</th>\n",
       "      <td>chr1:3121334-3121696</td>\n",
       "    </tr>\n",
       "    <tr>\n",
       "      <th>4</th>\n",
       "      <td>chr1:3134637-3135032</td>\n",
       "    </tr>\n",
       "  </tbody>\n",
       "</table>\n",
       "</div>"
      ],
      "text/plain": [
       "                      0\n",
       "0  chr1:3005833-3005982\n",
       "1  chr1:3094772-3095489\n",
       "2  chr1:3119556-3120739\n",
       "3  chr1:3121334-3121696\n",
       "4  chr1:3134637-3135032"
      ]
     },
     "execution_count": 6,
     "metadata": {},
     "output_type": "execute_result"
    }
   ],
   "source": [
    "chromatin_peaks_df.head()"
   ]
  },
  {
   "cell_type": "markdown",
   "metadata": {},
   "source": [
    "## 4. Use transcriptomes to cluster"
   ]
  },
  {
   "cell_type": "code",
   "execution_count": 90,
   "metadata": {},
   "outputs": [],
   "source": [
    "obs_df = pd.DataFrame(index=cdna_barcodes_df.index)\n",
    "var_df = pd.DataFrame(index=cdna_genes_df.index)\n",
    "\n",
    "adata = AnnData(X=cdna_counts_mtx.T, obs=obs_df, var=var_df)"
   ]
  },
  {
   "cell_type": "code",
   "execution_count": 91,
   "metadata": {},
   "outputs": [
    {
     "data": {
      "text/plain": [
       "AnnData object with n_obs × n_vars = 10309 × 33160"
      ]
     },
     "execution_count": 91,
     "metadata": {},
     "output_type": "execute_result"
    }
   ],
   "source": [
    "adata"
   ]
  },
  {
   "cell_type": "markdown",
   "metadata": {},
   "source": [
    "## 5. Compute chromatin accessibility profiles of clusters"
   ]
  },
  {
   "cell_type": "code",
   "execution_count": 84,
   "metadata": {},
   "outputs": [],
   "source": [
    "def convert_bin_name_to_chr_name(bin_name):\n",
    "    try:\n",
    "        return bin_name[:bin_name.index(':')]\n",
    "    except ValueError:\n",
    "        return np.nan\n",
    "def convert_bin_name_to_chr_start(bin_name):\n",
    "    try:\n",
    "        return int(bin_name[bin_name.index(':')+1:bin_name.index('-')])\n",
    "    except ValueError:\n",
    "        return np.nan\n",
    "def convert_bin_name_to_chr_end(bin_name):\n",
    "    try:\n",
    "        return int(bin_name[bin_name.index('-')+1:])\n",
    "    except ValueError:\n",
    "        return np.nan\n",
    "\n",
    "chromatin_peaks_df[\"chr_name\"] = chromatin_peaks_df[0].apply(convert_bin_name_to_chr_name)\n",
    "chromatin_peaks_df[\"chr_start\"] = chromatin_peaks_df[0].apply(convert_bin_name_to_chr_start)\n",
    "chromatin_peaks_df[\"chr_end\"] = chromatin_peaks_df[0].apply(convert_bin_name_to_chr_end)\n",
    "\n",
    "chromatin_peaks_df = chromatin_peaks_df.dropna(subset=[\"chr_name\", \"chr_start\", \"chr_end\"]).copy()\n",
    "\n",
    "# Ensure that the columns have the expect types.\n",
    "chromatin_peaks_df[\"chr_name\"] = chromatin_peaks_df[\"chr_name\"].astype(str)\n",
    "chromatin_peaks_df[\"chr_start\"] = chromatin_peaks_df[\"chr_start\"].astype(int)\n",
    "chromatin_peaks_df[\"chr_end\"] = chromatin_peaks_df[\"chr_end\"].astype(int)"
   ]
  },
  {
   "cell_type": "code",
   "execution_count": 25,
   "metadata": {},
   "outputs": [
    {
     "data": {
      "text/html": [
       "<div>\n",
       "<style scoped>\n",
       "    .dataframe tbody tr th:only-of-type {\n",
       "        vertical-align: middle;\n",
       "    }\n",
       "\n",
       "    .dataframe tbody tr th {\n",
       "        vertical-align: top;\n",
       "    }\n",
       "\n",
       "    .dataframe thead th {\n",
       "        text-align: right;\n",
       "    }\n",
       "</style>\n",
       "<table border=\"1\" class=\"dataframe\">\n",
       "  <thead>\n",
       "    <tr style=\"text-align: right;\">\n",
       "      <th></th>\n",
       "      <th>0</th>\n",
       "      <th>chr_name</th>\n",
       "      <th>chr_start</th>\n",
       "      <th>chr_end</th>\n",
       "    </tr>\n",
       "  </thead>\n",
       "  <tbody>\n",
       "    <tr>\n",
       "      <th>0</th>\n",
       "      <td>chr1:3005833-3005982</td>\n",
       "      <td>chr1</td>\n",
       "      <td>3005833</td>\n",
       "      <td>3005982</td>\n",
       "    </tr>\n",
       "    <tr>\n",
       "      <th>1</th>\n",
       "      <td>chr1:3094772-3095489</td>\n",
       "      <td>chr1</td>\n",
       "      <td>3094772</td>\n",
       "      <td>3095489</td>\n",
       "    </tr>\n",
       "    <tr>\n",
       "      <th>2</th>\n",
       "      <td>chr1:3119556-3120739</td>\n",
       "      <td>chr1</td>\n",
       "      <td>3119556</td>\n",
       "      <td>3120739</td>\n",
       "    </tr>\n",
       "    <tr>\n",
       "      <th>3</th>\n",
       "      <td>chr1:3121334-3121696</td>\n",
       "      <td>chr1</td>\n",
       "      <td>3121334</td>\n",
       "      <td>3121696</td>\n",
       "    </tr>\n",
       "    <tr>\n",
       "      <th>4</th>\n",
       "      <td>chr1:3134637-3135032</td>\n",
       "      <td>chr1</td>\n",
       "      <td>3134637</td>\n",
       "      <td>3135032</td>\n",
       "    </tr>\n",
       "  </tbody>\n",
       "</table>\n",
       "</div>"
      ],
      "text/plain": [
       "                      0 chr_name  chr_start  chr_end\n",
       "0  chr1:3005833-3005982     chr1    3005833  3005982\n",
       "1  chr1:3094772-3095489     chr1    3094772  3095489\n",
       "2  chr1:3119556-3120739     chr1    3119556  3120739\n",
       "3  chr1:3121334-3121696     chr1    3121334  3121696\n",
       "4  chr1:3134637-3135032     chr1    3134637  3135032"
      ]
     },
     "execution_count": 25,
     "metadata": {},
     "output_type": "execute_result"
    }
   ],
   "source": [
    "chromatin_peaks_df.head()"
   ]
  },
  {
   "cell_type": "code",
   "execution_count": 10,
   "metadata": {},
   "outputs": [],
   "source": [
    "starting_resolution = 200"
   ]
  },
  {
   "cell_type": "code",
   "execution_count": 81,
   "metadata": {},
   "outputs": [],
   "source": [
    "chromosomes = nc.get_chromorder('mm10')\n",
    "chroms_length_arr = np.array([ nc.get_chrominfo('mm10').chrom_lengths[x] for x in chromosomes ], dtype=\"i8\")\n",
    "chroms_name_arr = np.array(chromosomes, dtype=\"S23\")\n",
    "chrom_name_to_length = list(zip(chromosomes, chroms_length_arr))"
   ]
  },
  {
   "cell_type": "code",
   "execution_count": 82,
   "metadata": {},
   "outputs": [],
   "source": [
    "bw = pyBigWig.open(join(\"data\", \"bw\", \"output.bw\"), \"w\")\n",
    "bw.addHeader(chrom_name_to_length)\n",
    "\n",
    "for chr_name in chromosomes:\n",
    "    chr_tf = chromatin_peaks_df[\"chr_name\"] == str(chr_name)\n",
    "    chr_peaks_df = chromatin_peaks_df.loc[chr_tf]\n",
    "    if chr_peaks_df.shape[0] > 0:\n",
    "        chr_names = chr_peaks_df[\"chr_name\"].values.tolist()\n",
    "        chr_starts = chr_peaks_df[\"chr_start\"].values.tolist()\n",
    "        chr_ends = chr_peaks_df[\"chr_end\"].values.tolist()\n",
    "        chr_values = chromatin_counts_mtx[chr_tf,0].astype(np.double).tolist()\n",
    "        bw.addEntries(chr_names, chr_starts, ends=chr_ends, values=chr_values)\n",
    "\n",
    "bw.close()"
   ]
  },
  {
   "cell_type": "code",
   "execution_count": null,
   "metadata": {},
   "outputs": [],
   "source": []
  }
 ],
 "metadata": {
  "kernelspec": {
   "display_name": "Python 3",
   "language": "python",
   "name": "python3"
  },
  "language_info": {
   "codemirror_mode": {
    "name": "ipython",
    "version": 3
   },
   "file_extension": ".py",
   "mimetype": "text/x-python",
   "name": "python",
   "nbconvert_exporter": "python",
   "pygments_lexer": "ipython3",
   "version": "3.8.6"
  }
 },
 "nbformat": 4,
 "nbformat_minor": 4
}
