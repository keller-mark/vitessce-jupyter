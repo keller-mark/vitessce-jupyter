{
 "cells": [
  {
   "cell_type": "markdown",
   "metadata": {
    "nbsphinx": "hidden"
   },
   "source": [
    "# Vitessce Widget Tutorial"
   ]
  },
  {
   "cell_type": "markdown",
   "metadata": {},
   "source": [
    "# Visualization of SNARE-seq dataset"
   ]
  },
  {
   "cell_type": "markdown",
   "metadata": {},
   "source": [
    "## 1. Import dependencies\n",
    "\n",
    "We need to import the classes and functions that we will be using from the corresponding packages."
   ]
  },
  {
   "cell_type": "code",
   "execution_count": null,
   "metadata": {},
   "outputs": [],
   "source": [
    "import os\n",
    "from os.path import join\n",
    "from urllib.request import urlretrieve\n",
    "import scipy.io as sio\n",
    "import pandas as pd\n",
    "import numpy as np\n",
    "import scanpy as sc\n",
    "from anndata import AnnData\n",
    "import pyBigWig\n",
    "import bbi\n",
    "import negspy.coordinates as nc\n",
    "\n",
    "from vitessce import (\n",
    "    VitessceConfig,\n",
    "    Component as cm,\n",
    "    CoordinationType as ct,\n",
    "    AnnDataWrapper,\n",
    "    MultiBigWigWrapper,\n",
    ")"
   ]
  },
  {
   "cell_type": "markdown",
   "metadata": {},
   "source": [
    "## 2. Download data"
   ]
  },
  {
   "cell_type": "markdown",
   "metadata": {},
   "source": [
    "Download the dataset from Chen et al. Nat Biotechnol 2019 http://doi.org/10.1038/s41587-019-0290-0 from https://www.ncbi.nlm.nih.gov/geo/query/acc.cgi?acc=GSE126074"
   ]
  },
  {
   "cell_type": "code",
   "execution_count": null,
   "metadata": {},
   "outputs": [],
   "source": [
    "os.makedirs(\"data\", exist_ok=True)\n",
    "\n",
    "cdna_barcodes_filepath = join(\"data\", \"GSE126074_AdBrainCortex_SNAREseq_cDNA.barcodes.tsv.gz\")\n",
    "cdna_counts_filepath = join(\"data\", \"GSE126074_AdBrainCortex_SNAREseq_cDNA.counts.mtx.gz\")\n",
    "cdna_genes_filepath = join(\"data\", \"GSE126074_AdBrainCortex_SNAREseq_cDNA.genes.tsv.gz\")\n",
    "\n",
    "chromatin_barcodes_filepath = join(\"data\", \"GSE126074_AdBrainCortex_SNAREseq_chromatin.barcodes.tsv.gz\")\n",
    "chromatin_counts_filepath = join(\"data\", \"GSE126074_AdBrainCortex_SNAREseq_chromatin.counts.mtx.gz\")\n",
    "chromatin_peaks_filepath = join(\"data\", \"GSE126074_AdBrainCortex_SNAREseq_chromatin.peaks.tsv.gz\")\n",
    "\n",
    "geo_base_url = 'https://www.ncbi.nlm.nih.gov/geo/download/?acc=GSE126074&format=file&file='\n",
    "for filepath in { cdna_barcodes_filepath, cdna_counts_filepath, cdna_genes_filepath, chromatin_barcodes_filepath, chromatin_counts_filepath, chromatin_peaks_filepath }:\n",
    "    urlretrieve(f'{geo_base_url}{os.path.basename(filepath)}', filepath)"
   ]
  },
  {
   "cell_type": "markdown",
   "metadata": {},
   "source": [
    "## 3. Read data"
   ]
  },
  {
   "cell_type": "code",
   "execution_count": null,
   "metadata": {},
   "outputs": [],
   "source": [
    "cdna_counts_mtx = sio.mmread(cdna_counts_filepath).toarray()\n",
    "chromatin_counts_mtx = sio.mmread(chromatin_counts_filepath).toarray()\n",
    "\n",
    "cdna_barcodes_df = pd.read_csv(cdna_barcodes_filepath, sep='\\t', header=None, index_col=0)\n",
    "cdna_genes_df = pd.read_csv(cdna_genes_filepath, sep='\\t', header=None, index_col=0)\n",
    "\n",
    "chromatin_barcodes_df = pd.read_csv(chromatin_barcodes_filepath, sep='\\t', header=None)\n",
    "chromatin_peaks_df = pd.read_csv(chromatin_peaks_filepath, sep='\\t', header=None)"
   ]
  },
  {
   "cell_type": "code",
   "execution_count": null,
   "metadata": {},
   "outputs": [],
   "source": [
    "# Download cisTopic-based t-SNE and UMAP coordinates.\n",
    "chromatin_tsne_df = pd.read_csv(\"https://keller-mark.github.io/vitessce-demo-hosting-temporary/snare-seq-cistopic/chromatin.tsne.tsv\", sep='\\t', index_col=0)\n",
    "chromatin_umap_df = pd.read_csv(\"https://keller-mark.github.io/vitessce-demo-hosting-temporary/snare-seq-cistopic/chromatin.umap.tsv\", sep='\\t', index_col=0)"
   ]
  },
  {
   "cell_type": "markdown",
   "metadata": {},
   "source": [
    "## 4. Use transcriptomes to cluster"
   ]
  },
  {
   "cell_type": "code",
   "execution_count": null,
   "metadata": {},
   "outputs": [],
   "source": [
    "obs_df = pd.DataFrame(index=cdna_barcodes_df.index)\n",
    "var_df = pd.DataFrame(index=cdna_genes_df.index)\n",
    "\n",
    "adata = AnnData(X=cdna_counts_mtx.T, obs=obs_df, var=var_df)"
   ]
  },
  {
   "cell_type": "code",
   "execution_count": null,
   "metadata": {},
   "outputs": [],
   "source": [
    "# Filter out genes not detected in at least 3 cells\n",
    "sc.pp.filter_genes(adata, min_cells=3)"
   ]
  },
  {
   "cell_type": "code",
   "execution_count": null,
   "metadata": {},
   "outputs": [],
   "source": [
    "# Count-normalize to 10,000 reads per cell\n",
    "sc.pp.normalize_total(adata, target_sum=1e4)"
   ]
  },
  {
   "cell_type": "code",
   "execution_count": null,
   "metadata": {},
   "outputs": [],
   "source": [
    "sc.pp.log1p(adata)"
   ]
  },
  {
   "cell_type": "code",
   "execution_count": null,
   "metadata": {},
   "outputs": [],
   "source": [
    "sc.pp.neighbors(adata, n_neighbors=10, n_pcs=40)\n",
    "sc.tl.pca(adata, svd_solver='arpack')\n",
    "sc.tl.umap(adata)"
   ]
  },
  {
   "cell_type": "code",
   "execution_count": null,
   "metadata": {},
   "outputs": [],
   "source": [
    "sc.tl.leiden(adata)"
   ]
  },
  {
   "cell_type": "code",
   "execution_count": null,
   "metadata": {},
   "outputs": [],
   "source": [
    "adata.obsm[\"chromatin_tsne\"] = chromatin_tsne_df.loc[adata.obs.index.values.tolist()].values\n",
    "adata.obsm[\"chromatin_umap\"] = chromatin_umap_df.loc[adata.obs.index.values.tolist()].values"
   ]
  },
  {
   "cell_type": "markdown",
   "metadata": {},
   "source": [
    "## 5. Compute chromatin accessibility profiles of clusters"
   ]
  },
  {
   "cell_type": "code",
   "execution_count": null,
   "metadata": {},
   "outputs": [],
   "source": [
    "def convert_bin_name_to_chr_name(bin_name):\n",
    "    try:\n",
    "        return bin_name[:bin_name.index(':')]\n",
    "    except ValueError:\n",
    "        return np.nan\n",
    "def convert_bin_name_to_chr_start(bin_name):\n",
    "    try:\n",
    "        return int(bin_name[bin_name.index(':')+1:bin_name.index('-')])\n",
    "    except ValueError:\n",
    "        return np.nan\n",
    "def convert_bin_name_to_chr_end(bin_name):\n",
    "    try:\n",
    "        return int(bin_name[bin_name.index('-')+1:])\n",
    "    except ValueError:\n",
    "        return np.nan\n",
    "\n",
    "chromatin_peaks_df[\"chr_name\"] = chromatin_peaks_df[0].apply(convert_bin_name_to_chr_name)\n",
    "chromatin_peaks_df[\"chr_start\"] = chromatin_peaks_df[0].apply(convert_bin_name_to_chr_start)\n",
    "chromatin_peaks_df[\"chr_end\"] = chromatin_peaks_df[0].apply(convert_bin_name_to_chr_end)\n",
    "\n",
    "chromatin_peaks_df = chromatin_peaks_df.dropna(subset=[\"chr_name\", \"chr_start\", \"chr_end\"]).copy()\n",
    "\n",
    "# Ensure that the columns have the expect types.\n",
    "chromatin_peaks_df[\"chr_name\"] = chromatin_peaks_df[\"chr_name\"].astype(str)\n",
    "chromatin_peaks_df[\"chr_start\"] = chromatin_peaks_df[\"chr_start\"].astype(int)\n",
    "chromatin_peaks_df[\"chr_end\"] = chromatin_peaks_df[\"chr_end\"].astype(int)"
   ]
  },
  {
   "cell_type": "code",
   "execution_count": null,
   "metadata": {},
   "outputs": [],
   "source": [
    "chromatin_peaks_df.head()"
   ]
  },
  {
   "cell_type": "code",
   "execution_count": null,
   "metadata": {},
   "outputs": [],
   "source": [
    "starting_resolution = 200"
   ]
  },
  {
   "cell_type": "code",
   "execution_count": null,
   "metadata": {},
   "outputs": [],
   "source": [
    "chromosomes = nc.get_chromorder('mm10')\n",
    "chroms_length_arr = np.array([ nc.get_chrominfo('mm10').chrom_lengths[x] for x in chromosomes ], dtype=\"i8\")\n",
    "chroms_name_arr = np.array(chromosomes, dtype=\"S23\")\n",
    "chrom_name_to_length = list(zip(chromosomes, chroms_length_arr))"
   ]
  },
  {
   "cell_type": "code",
   "execution_count": null,
   "metadata": {},
   "outputs": [],
   "source": [
    "cluster_ids = adata.obs['leiden'].unique().tolist()\n",
    "cluster_ids.sort(key=int)"
   ]
  },
  {
   "cell_type": "markdown",
   "metadata": {},
   "source": [
    "## Convert cluster profiles to BigWig files for convenience"
   ]
  },
  {
   "cell_type": "code",
   "execution_count": null,
   "metadata": {},
   "outputs": [],
   "source": [
    "for cluster_id in cluster_ids:\n",
    "    bw = pyBigWig.open(join(\"data\", \"bw\", f\"{cluster_id}.bw\"), \"w\")\n",
    "    bw.addHeader(chrom_name_to_length)\n",
    "\n",
    "    cell_tf = adata.obs['leiden'] == cluster_id\n",
    "    cluster_cell_ids = adata.obs.loc[cell_tf].index.values.tolist()\n",
    "    for chr_name in chromosomes:\n",
    "        chr_tf = chromatin_peaks_df[\"chr_name\"] == str(chr_name)\n",
    "        chr_peaks_df = chromatin_peaks_df.loc[chr_tf]\n",
    "        if chr_peaks_df.shape[0] > 0:\n",
    "            chr_names = chr_peaks_df[\"chr_name\"].values.tolist()\n",
    "            chr_starts = chr_peaks_df[\"chr_start\"].values.tolist()\n",
    "            chr_ends = chr_peaks_df[\"chr_end\"].values.tolist()\n",
    "            chr_values = chromatin_counts_mtx[chr_tf,:][:,cell_tf].sum(axis=1).astype(np.double).tolist()\n",
    "            bw.addEntries(chr_names, chr_starts, ends=chr_ends, values=chr_values)\n",
    "\n",
    "    bw.close()"
   ]
  },
  {
   "cell_type": "code",
   "execution_count": null,
   "metadata": {},
   "outputs": [],
   "source": [
    "bws = [ bbi.open(join(\"data\", \"bw\", f\"{cluster_id}.bw\")) for cluster_id in cluster_ids ]\n",
    "cluster_paths = [ [ \"leiden\", cluster_id ] for cluster_id in cluster_ids ]"
   ]
  },
  {
   "cell_type": "code",
   "execution_count": null,
   "metadata": {},
   "outputs": [],
   "source": [
    "adata"
   ]
  },
  {
   "cell_type": "code",
   "execution_count": null,
   "metadata": {},
   "outputs": [],
   "source": [
    "vc = VitessceConfig(\"SNARE-seq\")\n",
    "dataset = vc.add_dataset(\"Chen et al.\")\n",
    "dataset = dataset.add_object(AnnDataWrapper(adata, cell_set_obs_cols=['leiden']))\n",
    "dataset = dataset.add_object(MultiBigWigWrapper(bws, cluster_paths, assembly='mm10'))\n",
    "X_umap = vc.add_view(dataset, cm.SCATTERPLOT, mapping=\"X_umap\")\n",
    "X_tsne = vc.add_view(dataset, cm.SCATTERPLOT, mapping=\"X_tsne\")\n",
    "chr_umap = vc.add_view(dataset, cm.SCATTERPLOT, mapping=\"chromatin_umap\")\n",
    "cell_sets = vc.add_view(dataset, cm.CELL_SETS)\n",
    "genome_tracks = vc.add_view(dataset, cm.GENOMIC_PROFILES).set_props(assembly='mm10')\n",
    "vc.layout(genome_tracks | ((X_umap | chr_umap) / (X_tsne | cell_sets)));"
   ]
  },
  {
   "cell_type": "code",
   "execution_count": null,
   "metadata": {},
   "outputs": [],
   "source": [
    "vc.widget()"
   ]
  },
  {
   "cell_type": "code",
   "execution_count": null,
   "metadata": {},
   "outputs": [],
   "source": []
  },
  {
   "cell_type": "code",
   "execution_count": null,
   "metadata": {},
   "outputs": [],
   "source": []
  }
 ],
 "metadata": {
  "kernelspec": {
   "display_name": "Python 3",
   "language": "python",
   "name": "python3"
  },
  "language_info": {
   "codemirror_mode": {
    "name": "ipython",
    "version": 3
   },
   "file_extension": ".py",
   "mimetype": "text/x-python",
   "name": "python",
   "nbconvert_exporter": "python",
   "pygments_lexer": "ipython3",
   "version": "3.8.6"
  }
 },
 "nbformat": 4,
 "nbformat_minor": 4
}
