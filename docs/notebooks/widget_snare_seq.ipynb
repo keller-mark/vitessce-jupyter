{
 "cells": [
  {
   "cell_type": "markdown",
   "metadata": {
    "nbsphinx": "hidden"
   },
   "source": [
    "# Vitessce Widget Tutorial"
   ]
  },
  {
   "cell_type": "markdown",
   "metadata": {},
   "source": [
    "# Visualization of SNARE-seq dataset"
   ]
  },
  {
   "cell_type": "markdown",
   "metadata": {},
   "source": [
    "## 1. Import dependencies\n",
    "\n",
    "We need to import the classes and functions that we will be using from the corresponding packages."
   ]
  },
  {
   "cell_type": "code",
   "execution_count": 6,
   "metadata": {},
   "outputs": [],
   "source": [
    "import os\n",
    "from os.path import join\n",
    "from urllib.request import urlretrieve\n",
    "import scipy.io as sio\n",
    "import pandas as pd\n",
    "import numpy as np\n",
    "\n",
    "from vitessce import (\n",
    "    VitessceConfig,\n",
    "    Component as cm,\n",
    "    CoordinationType as ct,\n",
    ")"
   ]
  },
  {
   "cell_type": "markdown",
   "metadata": {},
   "source": [
    "Download the dataset from Chen et al. Nat Biotechnol 2019 http://doi.org/10.1038/s41587-019-0290-0 from https://www.ncbi.nlm.nih.gov/geo/query/acc.cgi?acc=GSE126074"
   ]
  },
  {
   "cell_type": "code",
   "execution_count": 9,
   "metadata": {},
   "outputs": [],
   "source": [
    "os.makedirs(\"data\", exist_ok=True)\n",
    "\n",
    "cdna_barcodes_filepath = join(\"data\", \"GSE126074_AdBrainCortex_SNAREseq_cDNA.barcodes.tsv.gz\")\n",
    "cdna_counts_filepath = join(\"data\", \"GSE126074_AdBrainCortex_SNAREseq_cDNA.counts.mtx.gz\")\n",
    "cdna_genes_filepath = join(\"data\", \"GSE126074_AdBrainCortex_SNAREseq_cDNA.genes.tsv.gz\")\n",
    "\n",
    "chromatin_barcodes_filepath = join(\"data\", \"GSE126074_AdBrainCortex_SNAREseq_chromatin.barcodes.tsv.gz\")\n",
    "chromatin_counts_filepath = join(\"data\", \"GSE126074_AdBrainCortex_SNAREseq_chromatin.counts.mtx.gz\")\n",
    "chromatin_peaks_filepath = join(\"data\", \"GSE126074_AdBrainCortex_SNAREseq_chromatin.peaks.tsv.gz\")\n",
    "\n",
    "geo_base_url = 'https://www.ncbi.nlm.nih.gov/geo/download/?acc=GSE126074&format=file&file='\n",
    "for filepath in { cdna_barcodes_filepath, cdna_counts_filepath, cdna_genes_filepath, chromatin_barcodes_filepath, chromatin_counts_filepath, chromatin_peaks_filepath }:\n",
    "    urlretrieve(f'{geo_base_url}{os.path.basename(filepath)}', filepath)"
   ]
  },
  {
   "cell_type": "code",
   "execution_count": 13,
   "metadata": {},
   "outputs": [],
   "source": [
    "cdna_counts_mtx = sio.mmread(cdna_counts_filepath)\n",
    "chromatin_counts_mtx = sio.mmread(chromatin_counts_filepath)\n",
    "\n",
    "cdna_barcodes_df = pd.read_csv(cdna_barcodes_filepath, sep='\\t', header=None)\n",
    "cdna_genes_df = pd.read_csv(cdna_genes_filepath, sep='\\t', header=None)\n",
    "\n",
    "chromatin_barcodes_df = pd.read_csv(chromatin_barcodes_filepath, sep='\\t', header=None)\n",
    "chromatin_peaks_df = pd.read_csv(chromatin_peaks_filepath, sep='\\t', header=None)"
   ]
  },
  {
   "cell_type": "code",
   "execution_count": 16,
   "metadata": {},
   "outputs": [
    {
     "data": {
      "text/html": [
       "<div>\n",
       "<style scoped>\n",
       "    .dataframe tbody tr th:only-of-type {\n",
       "        vertical-align: middle;\n",
       "    }\n",
       "\n",
       "    .dataframe tbody tr th {\n",
       "        vertical-align: top;\n",
       "    }\n",
       "\n",
       "    .dataframe thead th {\n",
       "        text-align: right;\n",
       "    }\n",
       "</style>\n",
       "<table border=\"1\" class=\"dataframe\">\n",
       "  <thead>\n",
       "    <tr style=\"text-align: right;\">\n",
       "      <th></th>\n",
       "      <th>0</th>\n",
       "    </tr>\n",
       "  </thead>\n",
       "  <tbody>\n",
       "    <tr>\n",
       "      <th>0</th>\n",
       "      <td>chr1:3005833-3005982</td>\n",
       "    </tr>\n",
       "    <tr>\n",
       "      <th>1</th>\n",
       "      <td>chr1:3094772-3095489</td>\n",
       "    </tr>\n",
       "    <tr>\n",
       "      <th>2</th>\n",
       "      <td>chr1:3119556-3120739</td>\n",
       "    </tr>\n",
       "    <tr>\n",
       "      <th>3</th>\n",
       "      <td>chr1:3121334-3121696</td>\n",
       "    </tr>\n",
       "    <tr>\n",
       "      <th>4</th>\n",
       "      <td>chr1:3134637-3135032</td>\n",
       "    </tr>\n",
       "  </tbody>\n",
       "</table>\n",
       "</div>"
      ],
      "text/plain": [
       "                      0\n",
       "0  chr1:3005833-3005982\n",
       "1  chr1:3094772-3095489\n",
       "2  chr1:3119556-3120739\n",
       "3  chr1:3121334-3121696\n",
       "4  chr1:3134637-3135032"
      ]
     },
     "execution_count": 16,
     "metadata": {},
     "output_type": "execute_result"
    }
   ],
   "source": [
    "chromatin_peaks_df.head()"
   ]
  },
  {
   "cell_type": "code",
   "execution_count": null,
   "metadata": {},
   "outputs": [],
   "source": []
  }
 ],
 "metadata": {
  "kernelspec": {
   "display_name": "Python 3",
   "language": "python",
   "name": "python3"
  },
  "language_info": {
   "codemirror_mode": {
    "name": "ipython",
    "version": 3
   },
   "file_extension": ".py",
   "mimetype": "text/x-python",
   "name": "python",
   "nbconvert_exporter": "python",
   "pygments_lexer": "ipython3",
   "version": "3.8.6"
  }
 },
 "nbformat": 4,
 "nbformat_minor": 4
}
